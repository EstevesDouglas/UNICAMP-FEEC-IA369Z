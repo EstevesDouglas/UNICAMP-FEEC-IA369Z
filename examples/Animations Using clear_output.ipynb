








<!DOCTYPE html>
<html lang="en">

<head>
  <meta charset="utf-8">
  <title>Jupyter Notebook Viewer</title>
  <meta name="viewport" content="width=device-width, initial-scale=1.0">
  <meta name="description" content="">
  <meta name="author" content="">
  
  <meta name="robots" content="noindex,nofollow">
  

  <!--NEW RELIC Start Perf Measurement-->
  
  <!--NREND-->

  <!-- Le styles -->
  <script type="text/javascript">
//<![CDATA[
try{if (!window.CloudFlare) {var CloudFlare=[{verbose:0,p:0,byc:0,owlid:"cf",bag2:1,mirage2:0,oracle:0,paths:{cloudflare:"/cdn-cgi/nexp/dok3v=1613a3a185/"},atok:"03341bbdfba09a2639ba1129067dff8a",petok:"1c899f8b048d7276b6012ec226925f1b47762f19-1493178138-3600",zone:"jupyter.org",rocket:"0",apps:{"ga_key":{"ua":"UA-52617120-1","ga_bs":"2"}}}];!function(a,b){a=document.createElement("script"),b=document.getElementsByTagName("script")[0],a.async=!0,a.src="//ajax.cloudflare.com/cdn-cgi/nexp/dok3v=85b614c0f6/cloudflare.min.js",b.parentNode.insertBefore(a,b)}()}}catch(e){};
//]]>
</script>
<link href="/static/build/styles.css?v=0df6c3cbd0bfe45463701e5159de8814" rel="stylesheet">

  <!-- Le HTML5 shim, for IE6-8 support of HTML5 elements -->
  <!--[if lt IE 9]>
    <script src="http://html5shim.googlecode.com/svn/trunk/html5.js"></script>
  <![endif]-->

  <!-- Le fav and touch icons -->
  <link rel="shortcut icon" href="/static/ico/ipynb_icon_16x16.png">
  <link rel="apple-touch-icon-precomposed" sizes="144x144"
        href="/static/ico/apple-touch-icon-144-precomposed.png?v=5a3c9ede93e2a8b8ea9e3f8f3da1a905">
  <link rel="apple-touch-icon-precomposed" sizes="114x114"
        href="/static/ico/apple-touch-icon-114-precomposed.png?v=45d86fc8f24dc00638035e1dd7a6d898">
  <link rel="apple-touch-icon-precomposed" sizes="72x72"
        href="/static/ico/apple-touch-icon-72-precomposed.png?v=540b5eb0f3cfd25f1439d1c9bd30e15f">
  <link rel="apple-touch-icon-precomposed"
        href="/static/ico/apple-touch-icon-57-precomposed.png?v=225f0590e187e1458625654f10a28f56">
  
  

  

  
  <meta name="twitter:card" content="summary">
  <meta name="twitter:title" content="Notebook on nbviewer">
  <meta name="twitter:description" content="Check out this Jupyter notebook!">

  
  <meta name="twitter:domain" content="nbviewer.ipython.org">
  <meta name="twitter:image:src" content="http://ipython.org/ipython-doc/dev/_images/ipynb_icon_128x128.png">

  
    <link href="/static/build/notebook.css?v=d05748bef7d8f0edbc1e0133b9a41fe0" rel="stylesheet">
  

  

  
    <script src="https://cdnjs.cloudflare.com/ajax/libs/mathjax/2.7.0/MathJax.js?config=TeX-AMS_HTML" type="text/javascript">
    </script>
    <script type="text/javascript">
      init_mathjax = function() {
        if (window.MathJax) {
          // MathJax loaded
          MathJax.Hub.Config({
            TeX: {
              equationNumbers: {
                autoNumber: "AMS",
                useLabelIds: true
              }
            },
            tex2jax: {
              inlineMath: [ ['$','$'], ["\\(","\\)"] ],
              displayMath: [ ['$$','$$'], ["\\[","\\]"] ],
              processEscapes: true,
              processEnvironments: true
            },
            displayAlign: 'center',
            "HTML-CSS": {
              styles: {'.MathJax_Display': {"margin": 0}},
              linebreaks: { automatic: true }
            }
          });
          MathJax.Hub.Queue(["Typeset", MathJax.Hub]);
        }
      }
      init_mathjax();
    </script>
  

<script type="text/javascript">
/* <![CDATA[ */
var _gaq = _gaq || [];
_gaq.push(['_setAccount', 'UA-52617120-1']);
_gaq.push(['_trackPageview']);

(function() {
var ga = document.createElement('script'); ga.type = 'text/javascript'; ga.async = true;
ga.src = ('https:' == document.location.protocol ? 'https://ssl' : 'http://www') + '.google-analytics.com/ga.js';
var s = document.getElementsByTagName('script')[0]; s.parentNode.insertBefore(ga, s);
})();

(function(b){(function(a){"__CF"in b&&"DJS"in b.__CF?b.__CF.DJS.push(a):"addEventListener"in b?b.addEventListener("load",a,!1):b.attachEvent("onload",a)})(function(){"FB"in b&&"Event"in FB&&"subscribe"in FB.Event&&(FB.Event.subscribe("edge.create",function(a){_gaq.push(["_trackSocial","facebook","like",a])}),FB.Event.subscribe("edge.remove",function(a){_gaq.push(["_trackSocial","facebook","unlike",a])}),FB.Event.subscribe("message.send",function(a){_gaq.push(["_trackSocial","facebook","send",a])}));"twttr"in b&&"events"in twttr&&"bind"in twttr.events&&twttr.events.bind("tweet",function(a){if(a){var b;if(a.target&&a.target.nodeName=="IFRAME")a:{if(a=a.target.src){a=a.split("#")[0].match(/[^?=&]+=([^&]*)?/g);b=0;for(var c;c=a[b];++b)if(c.indexOf("url")===0){b=unescape(c.split("=")[1]);break a}}b=void 0}_gaq.push(["_trackSocial","twitter","tweet",b])}})})})(window);
/* ]]> */
</script>
</head>

<body class="nbviewer">

  <!-- These are loaded at the top of the body so they are available to
       notebook cells when they are loaded below. -->
  <script src="/static/components/jquery/dist/jquery.min.js?v=c9f5aeeca3ad37bf2aa006139b935f0a"></script>
  <script src="/static/components/requirejs/require.js?v=6da8be361b9ee26c5e721e76c6d4afce"></script>
  <script src="/static/components/moment/min/moment.min.js?v=89f87298ad94aa1e6b92f42eb66da043"></script>

<!-- Navbar
================================================== -->
  <nav id="menubar" class="navbar navbar-default navbar-fixed-top" data-spy="affix">
    <div class="container">
      <div class="navbar-header">
        <button type="button" class="navbar-toggle collapsed" data-toggle="collapse" data-target=".navbar-collapse">
          <span class="sr-only">Toggle navigation</span>
          <i class="fa fa-bars"></i>
        </button>
        <a class="navbar-brand" href="/">
          <img src="/static/img/nav_logo.svg?v=479cefe8d932fb14a67b93911b97d70f" width="159"/>
        </a>
      </div>

      <div class="collapse navbar-collapse">
        <ul class="nav navbar-nav navbar-right">
          <li>
            <a class="active" href="http://jupyter.org">JUPYTER</a>
          </li>
          <li>
    <a href="/faq" title="FAQ" >
      
        <span>FAQ</span>
      
    </a>
  </li>

          
  
    
  
    
      
        <li>
    <a href="/format/script/github/ipython/ipython/blob/4.0.x/examples/IPython%20Kernel/Animations%20Using%20clear_output.ipynb" title="View as Code" >
      <span class="fa fa-code fa-2x menu-icon"></span>
      <span class="menu-text">View as Code</span>
    </a>
  </li>
      
    
  

  
    <li>
    <a href="#" title="Python 3 Kernel" >
      <span class="fa fa-server fa-2x menu-icon"></span>
      <span class="menu-text">Python 3 Kernel</span>
    </a>
  </li>
  

  
    <li>
    <a href="https://github.com/ipython/ipython/blob/4.0.x/examples/IPython%20Kernel/Animations%20Using%20clear_output.ipynb" title="View on GitHub" >
      <span class="fa fa-github fa-2x menu-icon"></span>
      <span class="menu-text">View on GitHub</span>
    </a>
  </li>
  

  <li>
    <a href="https://raw.githubusercontent.com/ipython/ipython/4.0.x/examples/IPython%20Kernel/Animations%20Using%20clear_output.ipynb" title="Download Notebook" download>
      <span class="fa fa-download fa-2x menu-icon"></span>
      <span class="menu-text">Download Notebook</span>
    </a>
  </li>

        </ul>
      </div><!-- /.navbar-collapse -->
      
      
    </div>
  </nav>

  <div class="container container-main">
    
  
  <ol class="breadcrumb">
    
      <li>
        <a href="/github/ipython/ipython/tree/4.0.x">ipython</a>
      </li>
    
      <li>
        <a href="/github/ipython/ipython/tree/4.0.x/examples">examples</a>
      </li>
    
      <li>
        <a href="/github/ipython/ipython/tree/4.0.x/examples/IPython Kernel">IPython Kernel</a>
      </li>
    
  </ol>
  
  <div id="notebook">
    <div id="notebook-container">
      
<div class="cell border-box-sizing text_cell rendered">
<div class="prompt input_prompt">
</div>
<div class="inner_cell">
<div class="text_cell_render border-box-sizing rendered_html">
<h1 id="Simple-Animations-Using-clear_output">Simple Animations Using clear_output<a class="anchor-link" href="#Simple-Animations-Using-clear_output">&#182;</a></h1>
</div>
</div>
</div>
<div class="cell border-box-sizing text_cell rendered">
<div class="prompt input_prompt">
</div>
<div class="inner_cell">
<div class="text_cell_render border-box-sizing rendered_html">
<p>Sometimes you want to clear the output area in the middle of a calculation.  This can be useful for doing simple animations. In terminals, there is the carriage-return (<code>'\r'</code>) for overwriting a single line, but the notebook frontend can clear the whole output area, not just a single line.</p>
<p>To clear output in the Notebook you can use the <code>clear_output()</code> function.  If you are clearing the output every frame of an animation, calling <code>clear_output()</code> will create noticeable flickering.  You can use <code>clear_output(wait=True)</code> to add the <em>clear_output</em> call to a queue.  When data becomes available to replace the existing output, the <em>clear_output</em> will be called immediately before the new data is added.  This avoids the flickering by not rendering the cleared output to the screen.</p>

</div>
</div>
</div>
<div class="cell border-box-sizing text_cell rendered">
<div class="prompt input_prompt">
</div>
<div class="inner_cell">
<div class="text_cell_render border-box-sizing rendered_html">
<h2 id="Simple-example">Simple example<a class="anchor-link" href="#Simple-example">&#182;</a></h2>
</div>
</div>
</div>
<div class="cell border-box-sizing text_cell rendered">
<div class="prompt input_prompt">
</div>
<div class="inner_cell">
<div class="text_cell_render border-box-sizing rendered_html">
<p>Here we show our progress iterating through a list:</p>

</div>
</div>
</div>
<div class="cell border-box-sizing code_cell rendered">
<div class="input">
<div class="prompt input_prompt">In&nbsp;[1]:</div>
<div class="inner_cell">
    <div class="input_area">
<div class=" highlight hl-ipython3"><pre><span></span><span class="kn">import</span> <span class="nn">sys</span>
<span class="kn">import</span> <span class="nn">time</span>
</pre></div>

</div>
</div>
</div>

</div>
<div class="cell border-box-sizing code_cell rendered">
<div class="input">
<div class="prompt input_prompt">In&nbsp;[2]:</div>
<div class="inner_cell">
    <div class="input_area">
<div class=" highlight hl-ipython3"><pre><span></span><span class="kn">from</span> <span class="nn">IPython.display</span> <span class="k">import</span> <span class="n">display</span><span class="p">,</span> <span class="n">clear_output</span>
<span class="k">for</span> <span class="n">i</span> <span class="ow">in</span> <span class="nb">range</span><span class="p">(</span><span class="mi">10</span><span class="p">):</span>
    <span class="n">time</span><span class="o">.</span><span class="n">sleep</span><span class="p">(</span><span class="mf">0.25</span><span class="p">)</span>
    <span class="n">clear_output</span><span class="p">(</span><span class="n">wait</span><span class="o">=</span><span class="kc">True</span><span class="p">)</span>
    <span class="nb">print</span><span class="p">(</span><span class="n">i</span><span class="p">)</span>
    <span class="n">sys</span><span class="o">.</span><span class="n">stdout</span><span class="o">.</span><span class="n">flush</span><span class="p">()</span>
</pre></div>

</div>
</div>
</div>

<div class="output_wrapper">
<div class="output">


<div class="output_area">
<div class="prompt"></div>

<div class="output_subarea output_stream output_stdout output_text">
<pre>9
</pre>
</div>
</div>

</div>
</div>

</div>
<div class="cell border-box-sizing text_cell rendered">
<div class="prompt input_prompt">
</div>
<div class="inner_cell">
<div class="text_cell_render border-box-sizing rendered_html">
<h2 id="AsyncResult.wait_interactive">AsyncResult.wait_interactive<a class="anchor-link" href="#AsyncResult.wait_interactive">&#182;</a></h2>
</div>
</div>
</div>
<div class="cell border-box-sizing text_cell rendered">
<div class="prompt input_prompt">
</div>
<div class="inner_cell">
<div class="text_cell_render border-box-sizing rendered_html">
<p>The AsyncResult object has a special <code>wait_interactive()</code> method, which prints its progress interactively,
so you can watch as your parallel computation completes.</p>
<p><strong>This example assumes you have an IPython cluster running, which you can start from the <a href="/#clusters">cluster panel</a></strong></p>

</div>
</div>
</div>
<div class="cell border-box-sizing code_cell rendered">
<div class="input">
<div class="prompt input_prompt">In&nbsp;[3]:</div>
<div class="inner_cell">
    <div class="input_area">
<div class=" highlight hl-ipython3"><pre><span></span><span class="kn">from</span> <span class="nn">IPython</span> <span class="k">import</span> <span class="n">parallel</span>
<span class="n">rc</span> <span class="o">=</span> <span class="n">parallel</span><span class="o">.</span><span class="n">Client</span><span class="p">()</span>
<span class="n">view</span> <span class="o">=</span> <span class="n">rc</span><span class="o">.</span><span class="n">load_balanced_view</span><span class="p">()</span>

<span class="n">amr</span> <span class="o">=</span> <span class="n">view</span><span class="o">.</span><span class="n">map_async</span><span class="p">(</span><span class="n">time</span><span class="o">.</span><span class="n">sleep</span><span class="p">,</span> <span class="p">[</span><span class="mf">0.5</span><span class="p">]</span><span class="o">*</span><span class="mi">100</span><span class="p">)</span>

<span class="n">amr</span><span class="o">.</span><span class="n">wait_interactive</span><span class="p">()</span>
</pre></div>

</div>
</div>
</div>

<div class="output_wrapper">
<div class="output">


<div class="output_area">
<div class="prompt"></div>

<div class="output_subarea output_stream output_stdout output_text">
<pre> 100/100 tasks finished after    6 s
done
</pre>
</div>
</div>

</div>
</div>

</div>
<div class="cell border-box-sizing text_cell rendered">
<div class="prompt input_prompt">
</div>
<div class="inner_cell">
<div class="text_cell_render border-box-sizing rendered_html">
<h2 id="Matplotlib-example">Matplotlib example<a class="anchor-link" href="#Matplotlib-example">&#182;</a></h2>
</div>
</div>
</div>
<div class="cell border-box-sizing text_cell rendered">
<div class="prompt input_prompt">
</div>
<div class="inner_cell">
<div class="text_cell_render border-box-sizing rendered_html">
<p>You can also use <code>clear_output()</code> to clear figures and plots.</p>

</div>
</div>
</div>
<div class="cell border-box-sizing code_cell rendered">
<div class="input">
<div class="prompt input_prompt">In&nbsp;[4]:</div>
<div class="inner_cell">
    <div class="input_area">
<div class=" highlight hl-ipython3"><pre><span></span><span class="o">%</span><span class="k">matplotlib</span> inline
<span class="kn">import</span> <span class="nn">numpy</span> <span class="k">as</span> <span class="nn">np</span>
<span class="kn">import</span> <span class="nn">matplotlib.pyplot</span> <span class="k">as</span> <span class="nn">plt</span>
</pre></div>

</div>
</div>
</div>

</div>
<div class="cell border-box-sizing code_cell rendered">
<div class="input">
<div class="prompt input_prompt">In&nbsp;[5]:</div>
<div class="inner_cell">
    <div class="input_area">
<div class=" highlight hl-ipython3"><pre><span></span><span class="kn">from</span> <span class="nn">scipy.special</span> <span class="k">import</span> <span class="n">jn</span>
<span class="n">x</span> <span class="o">=</span> <span class="n">np</span><span class="o">.</span><span class="n">linspace</span><span class="p">(</span><span class="mi">0</span><span class="p">,</span><span class="mi">5</span><span class="p">)</span>
<span class="n">f</span><span class="p">,</span> <span class="n">ax</span> <span class="o">=</span> <span class="n">plt</span><span class="o">.</span><span class="n">subplots</span><span class="p">()</span>
<span class="n">ax</span><span class="o">.</span><span class="n">set_title</span><span class="p">(</span><span class="s2">&quot;Bessel functions&quot;</span><span class="p">)</span>

<span class="k">for</span> <span class="n">n</span> <span class="ow">in</span> <span class="nb">range</span><span class="p">(</span><span class="mi">1</span><span class="p">,</span><span class="mi">10</span><span class="p">):</span>
    <span class="n">time</span><span class="o">.</span><span class="n">sleep</span><span class="p">(</span><span class="mi">1</span><span class="p">)</span>
    <span class="n">ax</span><span class="o">.</span><span class="n">plot</span><span class="p">(</span><span class="n">x</span><span class="p">,</span> <span class="n">jn</span><span class="p">(</span><span class="n">x</span><span class="p">,</span><span class="n">n</span><span class="p">))</span>
    <span class="n">clear_output</span><span class="p">(</span><span class="n">wait</span><span class="o">=</span><span class="kc">True</span><span class="p">)</span>
    <span class="n">display</span><span class="p">(</span><span class="n">f</span><span class="p">)</span>

<span class="c1"># close the figure at the end, so we don&#39;t get a duplicate</span>
<span class="c1"># of the last plot</span>
<span class="n">plt</span><span class="o">.</span><span class="n">close</span><span class="p">()</span>
</pre></div>

</div>
</div>
</div>

<div class="output_wrapper">
<div class="output">


<div class="output_area">
<div class="prompt"></div>



<div class="output_png output_subarea ">
<img src="data:image/png;base64,iVBORw0KGgoAAAANSUhEUgAAAloAAAGKCAYAAADUje9YAAAABHNCSVQICAgIfAhkiAAAAAlwSFlz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"
>
</div>

</div>

</div>
</div>

</div>
 


    </div>
  </div>

  </div>


  
    <footer class="footer hidden-print">
      <div class="container">
        <div class="col-md-4">
          <p>
            This website does not host notebooks, it only renders notebooks
            available on other websites.
          </p>
        </div>

        <div class="col-md-4">
          <p>
            Delivered by <a href="http://www.fastly.com/">Fastly</a>,
            Rendered by <a href="https://developer.rackspace.com/?nbviewer=awesome">Rackspace</a>
          </p>
          <p>
            nbviewer GitHub <a href="https://github.com/jupyter/nbviewer">repository</a>.
          </p>
        </div>

        <div class="col-md-4">
          
  
            
              <p>
                nbviewer version:
                <a href="https://github.com/jupyter/nbviewer/commit/e7c1a7dbe971a7bf4508e5f6b051dab53b88f2ce">
                  e7c1a7d
                </a>
              </p>
            
          
  
  <p>
    nbconvert version: <a href="https://github.com/jupyter/nbconvert/releases/tag/5.1.1">
      5.1.1
    </a>
  </p>
  

          
  
  
  <p>
    Rendered
    <span class='date' data-date='Wed, 26 Apr 2017 03:41:59 UTC' title='Wed, 26 Apr 2017 03:41:59 UTC'>(Wed, 26 Apr 2017 03:41:59 UTC)</span>
  </p>
  

        </div>
      </div>
    </footer>
  

  <script src="https://unpkg.com/jupyter-js-widgets@2.0.*/dist/embed.js"></script>
  <script src="/static/components/bootstrap/js/bootstrap.min.js?v=5869c96cc8f19086aee625d670d741f9"></script>
  <script src="/static/components/headroom.js/dist/headroom.min.js?v=b0a311ea668f8e768ea375f4a7abb81c"></script>
  <script src="/static/components/headroom.js/dist/jQuery.headroom.min.js?v=f3a1bae118315d0c234afc74dc6aab71"></script>

  
  
  <script>
    $(function(){ $("#menubar").headroom({
      tolerance: 5,
      offset: 205,
      classes: {
        initial: "animated",
        pinned: "slideInDown",
        unpinned: "slideOutUp"
      }
    })});
  </script>


  
  <script>
    (function(i,s,o,g,r,a,m){i['GoogleAnalyticsObject']=r;i[r]=i[r]||function(){
      (i[r].q=i[r].q||[]).push(arguments)},i[r].l=1*new Date();a=s.createElement(o),
      m=s.getElementsByTagName(o)[0];a.async=1;a.src=g;m.parentNode.insertBefore(a,m)
    })(window,document,'script','https://www.google-analytics.com/analytics.js','ga');
    ga('create', 'UA-52617120-5', 'auto');
    ga('send', 'pageview');
  </script>
  
  <script>
    require({
        paths: {
          moment: "/static/components/moment/min/moment.min.js?v=89f87298ad94aa1e6b92f42eb66da043"
        }
      }, ["moment"], function(moment){
      var date = $("footer .date"),
        m = moment(new Date(date.data('date'))),
        update = function(){ date.text(m.fromNow()); };
      setInterval(update, 61*1000);
      update();
      var w = $(window).scroll(function(event){
        $("body").toggleClass("scrolled", w.scrollTop() > 0);
      });
    });
  </script>
  <!--NEW RELIC Stop Perf Measurement-->
  
  <!--NEW RELIC End-->
</body>
</html>