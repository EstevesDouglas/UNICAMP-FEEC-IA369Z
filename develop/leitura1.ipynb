{
 "cells": [
  {
   "cell_type": "markdown",
   "metadata": {},
   "source": [
    "# IA369Z - Reprodutibilidade em Pesquisa Computacional.\n",
    "\n"
   ]
  },
  {
   "cell_type": "code",
   "execution_count": 16,
   "metadata": {
    "collapsed": true
   },
   "outputs": [],
   "source": [
    "import numpy as np"
   ]
  },
  {
   "cell_type": "code",
   "execution_count": 19,
   "metadata": {
    "collapsed": true
   },
   "outputs": [],
   "source": [
    "import csv"
   ]
  },
  {
   "cell_type": "code",
   "execution_count": 27,
   "metadata": {
    "collapsed": false
   },
   "outputs": [
    {
     "name": "stdout",
     "output_type": "stream",
     "text": [
      "created_at,entry_id,field1,x,amp\n",
      "2017-01-06, 22:49:19, UTC, 380, 3238\n",
      "2017-01-07, 14:31:19, UTC, 381, 3238\n",
      "2017-01-07, 15:32:59, UTC, 382, 3234\n",
      "2017-01-07, 17:33:27, UTC, 383, 3238\n",
      "2017-01-07, 20:02:41, UTC, 384, 3230\n",
      "2017-01-08, 16:04:56, UTC, 385, 3222\n",
      "2017-01-08, 20:07:52, UTC, 386, 3211\n",
      "2017-01-08, 21:49:05, UTC, 387, 3237\n",
      "2017-01-08, 22:49:15, UTC, 388, 3238\n",
      "2017-01-10, 20:37:57, UTC, 389, 3238\n",
      "2017-01-10, 21:02:21, UTC, 390, 3238\n",
      "2017-01-10, 21:08:35, UTC, 391, 3238\n",
      "2017-01-10, 21:27:09, UTC, 392, 3237\n",
      "2017-01-10, 21:30:44, UTC, 393, 3238\n",
      "2017-01-10, 21:35:02, UTC, 394, 3236\n",
      "2017-01-10, 21:51:12, UTC, 395, 3235\n",
      "2017-01-11, 21:06:39, UTC, 396, 3236\n",
      "2017-01-11, 21:25:03, UTC, 397, 3235\n",
      "2017-01-12, 13:07:17, UTC, 398, 3231\n",
      "2017-01-12, 13:07:51, UTC, 399, 3230\n",
      "2017-01-12, 18:47:26, UTC, 400, 3230\n",
      "2017-01-12, 18:48:13, UTC, 401, 3230\n",
      "2017-01-12, 18:49:18, UTC, 402, 3230\n",
      "2017-01-12, 20:56:32, UTC, 403, 3230\n",
      "2017-01-14, 11:15:14, UTC, 404, 3226\n",
      "2017-01-14, 11:15:42, UTC, 405, 3226\n",
      "2017-01-22, 22:19:29, UTC, 406, 3206\n",
      "2017-01-23, 21:13:22, UTC, 407, 3204\n",
      "2017-01-23, 21:18:54, UTC, 408, 3207\n",
      "2017-01-23, 21:28:57, UTC, 409, 3205\n",
      "2017-01-24, 21:20:48, UTC, 410, 3204\n",
      "2017-01-24, 21:32:20, UTC, 411, 3203\n",
      "2017-01-24, 21:40:18, UTC, 412, 3204\n",
      "2017-01-25, 18:41:05, UTC, 413, 3204\n",
      "2017-01-26, 16:29:37, UTC, 414, 3197\n",
      "2017-01-26, 21:59:48, UTC, 415, 3203\n",
      "2017-01-27, 00:49:57, UTC, 416, 3202\n",
      "2017-01-29, 18:10:08, UTC, 417, 3191\n",
      "2017-01-31, 22:47:38, UTC, 418, 3192\n",
      "2017-02-01, 23:25:51, UTC, 419, 3196\n",
      "2017-02-01, 23:26:15, UTC, 420, 3190\n",
      "2017-02-02, 21:42:21, UTC, 421, 3190\n",
      "2017-02-04, 12:00:49, UTC, 422, 3189\n",
      "2017-02-04, 14:04:45, UTC, 423, 3187\n",
      "2017-02-04, 15:29:49, UTC, 424, 3196\n",
      "2017-02-04, 15:45:48, UTC, 425, 3196\n"
     ]
    }
   ],
   "source": [
    "with open('data/database.csv', 'rb') as csvfile:\n",
    "    spamreader = csv.reader(csvfile, delimiter=' ', quotechar='|')\n",
    "    for row in spamreader:\n",
    "        print ', '.join(row)"
   ]
  },
  {
   "cell_type": "code",
   "execution_count": null,
   "metadata": {
    "collapsed": true
   },
   "outputs": [],
   "source": []
  }
 ],
 "metadata": {
  "kernelspec": {
   "display_name": "Python 2",
   "language": "python",
   "name": "python2"
  },
  "language_info": {
   "codemirror_mode": {
    "name": "ipython",
    "version": 2
   },
   "file_extension": ".py",
   "mimetype": "text/x-python",
   "name": "python",
   "nbconvert_exporter": "python",
   "pygments_lexer": "ipython2",
   "version": "2.7.13"
  }
 },
 "nbformat": 4,
 "nbformat_minor": 2
}
