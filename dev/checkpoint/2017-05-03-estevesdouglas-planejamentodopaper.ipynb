{
 "cells": [
  {
   "cell_type": "markdown",
   "metadata": {},
   "source": [
    "# IA369Z - Reprodutibilidade em Pesquisa Computacional.\n",
    "\n"
   ]
  },
  {
   "cell_type": "markdown",
   "metadata": {},
   "source": [
    "## Objetivo\n",
    "\n",
    "## Quais os dados que serão utilizados ?\n",
    "\n",
    "## Onde eles foram Obtidos ?\n",
    "\n",
    "## Qual o tamanho do conjunto de dados ? Quantas Amostras, quantos atributos ?\n",
    "\n",
    "## Qual a forma de visualização de resultados você pretende usar?\n",
    "\n",
    "## Para a forma de visualização citada acima, será preciso utilizar algum recurso/biblioteca específica?\n",
    "\n",
    "## Você pretende usar algum tipo de interatividade? Em caso afirmativo, explique?\n",
    "\n"
   ]
  },
  {
   "cell_type": "markdown",
   "metadata": {},
   "source": [
    "## Rascunho\n",
    "### Abstract\n",
    "### Goal\n",
    "### Workflow\n",
    "### Method\n",
    "### Conclusion\n",
    "### References"
   ]
  }
 ],
 "metadata": {
  "kernelspec": {
   "display_name": "Python 2",
   "language": "python",
   "name": "python2"
  },
  "language_info": {
   "codemirror_mode": {
    "name": "ipython",
    "version": 2
   },
   "file_extension": ".py",
   "mimetype": "text/x-python",
   "name": "python",
   "nbconvert_exporter": "python",
   "pygments_lexer": "ipython2",
   "version": "2.7.13"
  }
 },
 "nbformat": 4,
 "nbformat_minor": 2
}
