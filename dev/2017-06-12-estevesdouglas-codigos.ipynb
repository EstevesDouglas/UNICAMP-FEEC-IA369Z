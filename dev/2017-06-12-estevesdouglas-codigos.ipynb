{
 "cells": [
  {
   "cell_type": "markdown",
   "metadata": {},
   "source": [
    "# IA369Z - Reprodutibilidade em Pesquisa Computacional.\n",
    "\n"
   ]
  },
  {
   "cell_type": "markdown",
   "metadata": {},
   "source": [
    "## Códigos fontes e referente as comunicações entre os equipamentos."
   ]
  },
  {
   "cell_type": "markdown",
   "metadata": {},
   "source": [
    "### Descrição de códigos para devices e coletas\n",
    "\n",
    "## 01 - Campainha IoT"
   ]
  },
  {
   "cell_type": "markdown",
   "metadata": {},
   "source": [
    "Esse é o código utilizado no módulo ESP8266 versão 01, utilizada na Campainha IoT.\n",
    "\n",
    "Existe uma pequena diferença no código original ao item exibido em seguida, acabei realizado pequenas correções em nomeclaturas de variáveis do programa."
   ]
  },
  {
   "cell_type": "markdown",
   "metadata": {},
   "source": [
    "Ambiente de desenvolvimento pode ser baixado e editar o código fonte a seguir, segue links para instalar um SDK Lua[1] seguindo pelo link[2], caso tenha mais curiosidade sobre a linguagem Lua[3].\n",
    "\n",
    "Descrição sobre o programa da Camapinha\n",
    "\n",
    "-- Campainha IoT - LHC - v1.1\n",
    "\n",
    "-- e na resposta de um \"Tocou\" coloca o ESP em modo DeepSleep para economizar bateria.\n",
    "\n",
    "-- Se nenhuma resposta for recebida em 15 segundos coloca o ESP em DeepSleep."
   ]
  },
  {
   "cell_type": "code",
   "execution_count": 1,
   "metadata": {
    "collapsed": false
   },
   "outputs": [
    {
     "ename": "SyntaxError",
     "evalue": "invalid syntax (<ipython-input-1-b3dbb52bc165>, line 7)",
     "output_type": "error",
     "traceback": [
      "\u001b[0;36m  File \u001b[0;32m\"<ipython-input-1-b3dbb52bc165>\"\u001b[0;36m, line \u001b[0;32m7\u001b[0m\n\u001b[0;31m    function desliga_circuito()\u001b[0m\n\u001b[0m                            ^\u001b[0m\n\u001b[0;31mSyntaxError\u001b[0m\u001b[0;31m:\u001b[0m invalid syntax\n"
     ]
    }
   ],
   "source": [
    "led_pin = 3\n",
    "status_led = gpio.LOW\n",
    "ip_servidor = \"X.X.X.X.\"\n",
    "ip_campainha = \"X.X.X.X.\"\n",
    "tensao=3333\n",
    " \n",
    "function desliga_circuito()\n",
    "    print(\"Colocando ESP em Deep Sleep\")\n",
    "    node.dsleep(0)\n",
    "end\n",
    " \n",
    "function read_voltage() -- Desconecta do wifi para poder ler a tensao de alimentação do ESP.\n",
    "    wifi.sta.disconnect()\n",
    " \n",
    "    tensao = adc.readvdd33()            \n",
    "    print(\"Tensão: \"..Tensao)\n",
    " \n",
    "    -- Inicializa o Wifi e conecta no servidor\n",
    "    print(\"Inicializando WiFi\")\n",
    "    init_wifi()\n",
    "end\n",
    " \n",
    "function pisca_led()\n",
    "    gpio.write(led_pin, status_led)\n",
    " \n",
    "    if status_led == gpio.LOW then\n",
    "        status_led = gpio.HIGH\n",
    "    else\n",
    "        status_led = gpio.LOW\n",
    "    end\n",
    "end\n",
    " \n",
    "function init_pins()\n",
    "    gpio.mode(led_pin, gpio.OUTPUT)\n",
    "    gpio.write(led_pin, status_led)\n",
    "end\n",
    " \n",
    "function init_wifi()\n",
    "    wifi.setmode(wifi.STATION)\n",
    "    wifi.sta.config(\"SSID\", \"password\")\n",
    "    wifi.sta.connect()\n",
    "    wifi.sta.setip({ip=ip_campainha,netmask=\"255.255.255.0\",gateway=\"X.X.X.X\"})\n",
    " \n",
    "    -- Aguarda conexão com Wifi antes de enviar o request.\n",
    "    function try_connect()        \n",
    "        if (wifi.sta.status() == 5) then\n",
    "            tmr.stop(0)\n",
    "            print(\"Conectado, mandando request\")\n",
    "            manda_request() -- Se nenhuma confirmação for recebida em 15 segundos, desliga o ESP.\n",
    "            tmr.alarm(2,15000,0, desliga_circuito)\n",
    "        else\n",
    "            print(\"Conectando...\")\n",
    "        end\n",
    "    end\n",
    " \n",
    "    tmr.alarm(0,1000,1, function() try_connect() end )\n",
    "end\n",
    " \n",
    "function manda_request()\n",
    "    tmr.alarm(1, 200, 1, pisca_led)\n",
    "    print(\"Request enviado\") -- Cria a conexão TCP \n",
    "    conn=net.createConnection(net.TCP,false) -- Envia o toque da campainha e tensão para o servidor\n",
    "    conn:on(\"connection\", function(conn)\n",
    "    conn:send(\"GET /?bateria=\"  ..tensao.. \" HTTP/1.0\\r\\n\\r\\n\")\n",
    "    end)\n",
    " \n",
    "    -- Se receber \"Tocou\" do servidor, desliga o ESP.\n",
    "    conn:on(\"receive\", function(conn, data)\n",
    "        if data:find(\"Tocou\") ~= nil then\n",
    "            desliga_circuito()\n",
    "        end\n",
    "    end)\n",
    " \n",
    "    -- Conectar no servidor\n",
    "    conn:connect(9999,ip_servidor)\n",
    " \n",
    "end\n",
    " \n",
    "print(\"Inicializando pinos\")\n",
    "init_pins()\n",
    " \n",
    "print (\"Lendo tensao\")\n",
    "read_voltage()\n"
   ]
  },
  {
   "cell_type": "markdown",
   "metadata": {},
   "source": [
    "## 02 - Gateway e Servidor de Som"
   ]
  },
  {
   "cell_type": "markdown",
   "metadata": {
    "collapsed": true
   },
   "source": [
    "-- Servidor local, roda o programa em python para receber comunicação do dispositivo, executar uma ação local de audio e enviar informações para plataforma online. \n",
    "\n",
    "-- Verificando caso utilize Linux o import deve conter bibliotecas do sistema.\n",
    "\n",
    "-- O código fonte está localizado no diretório /scr/servidor.py"
   ]
  },
  {
   "cell_type": "code",
   "execution_count": null,
   "metadata": {
    "collapsed": true
   },
   "outputs": [],
   "source": [
    "#!/usr/bin/python2\n",
    " \n",
    "import time\n",
    "import BaseHTTPServer\n",
    "import os\n",
    "import random\n",
    "import string\n",
    "import requests\n",
    "from urlparse import parse_qs, urlparse\n",
    " \n",
    "HOST_NAME = '0.0.0.0'\n",
    "PORT_NUMBER = 9999\n",
    "# A variável MP3_DIR será construida tendo como base o diretório HOME do usuário + Music/Campainha\n",
    "# (e.g: /home/usuario/Music/Campainha)\n",
    "MP3_DIR = os.path.join(os.getenv('HOME'), 'Music', 'Campainha')\n",
    "VALID_CHARS = set(string.ascii_letters + string.digits + '_.')\n",
    "CHAVE_THINGSPEAK = 'YOURKEY'\n",
    "# Salva o arquivo de log no diretório do usuário (e.g: /home/usuário/campainha.log)\n",
    "ARQUIVO_LOG = os.path.join(os.getenv('HOME'), 'campainha.log')\n",
    " \n",
    " \n",
    "def filtra(mp3):\n",
    "    if not mp3.endswith('.mp3'):\n",
    "        return False\n",
    "    for c in mp3:\n",
    "        if not c in VALID_CHARS:\n",
    "            return False\n",
    "    return True\n",
    " \n",
    " \n",
    "def log(msg, output_file=None):\n",
    "    if output_file is None:\n",
    "        output_file = open(ARQUIVO_LOG, 'a')\n",
    " \n",
    "    output_file.write('%s: %s\\n' % (time.asctime(), msg))\n",
    "    output_file.flush()\n",
    " \n",
    " \n",
    "class MyHandler(BaseHTTPServer.BaseHTTPRequestHandler):\n",
    "    def do_GET(s):\n",
    "        s.send_header(\"Content-type\", \"text/plain\")\n",
    " \n",
    "        query = urlparse(s.path).query\n",
    "        if not query:\n",
    "            s.send_response(404)\n",
    "            s.end_headers()\n",
    "            s.wfile.write('Not found')\n",
    "            return\n",
    " \n",
    "        components = dict(qc.split('=') for qc in query.split('&'))\n",
    "        if not 'bateria' in components:\n",
    "            s.send_response(404)\n",
    "            s.end_headers()\n",
    "            s.wfile.write('Not found')\n",
    "            return\n",
    " \n",
    "        s.send_response(200)\n",
    "        s.end_headers()\n",
    " \n",
    "        s.wfile.write('Tocou')\n",
    "        s.wfile.flush()\n",
    " \n",
    "        log(\"Atualizando thingspeak\")\n",
    "        r = requests.post('https://api.thingspeak.com/update',\n",
    "            data={'api_key': CHAVE_THINGSPEAK, 'field1': components['bateria']})\n",
    "        log(\"Thingspeak retornou: %d\" % r.status_code)\n",
    " \n",
    "        log(\"Tocando MP3\")\n",
    "        mp3s = [f for f in os.listdir(MP3_DIR) if filtra(f)]\n",
    "        mp3 = random.choice(mp3s)\n",
    "        os.system(\"mpv \" + os.path.join(MP3_DIR, mp3))\n",
    " \n",
    "if __name__ == '__main__':\n",
    "    server_class = BaseHTTPServer.HTTPServer\n",
    "    httpd = server_class((HOST_NAME, PORT_NUMBER), MyHandler)\n",
    "    log(\"Server Starts - %s:%s\" % (HOST_NAME, PORT_NUMBER))\n",
    "    try:\n",
    "        httpd.serve_forever()\n",
    "    except KeyboardInterrupt:\n",
    "        pass\n",
    "    httpd.server_close()\n",
    "    log(\"Server Stops - %s:%s\" % (HOST_NAME, PORT_NUMBER))\n"
   ]
  },
  {
   "cell_type": "markdown",
   "metadata": {},
   "source": [
    "## Referência"
   ]
  },
  {
   "cell_type": "markdown",
   "metadata": {},
   "source": [
    "[1 - Blog Pedro Minatel, Programando para o  ESP8266 com o nodeCMU](http://pedrominatel.com.br/pt/arduino/programando-para-o-esp8266-com-o-nodemcu/)\n",
    "\n",
    "[2 - Blog Pedro Minatel, Instalando o SDK do ESP8266 da forma mais fácil](http://pedrominatel.com.br/pt/sdk/instalando-o-sdk-do-esp8266-da-forma-ainda-mais-facil/)\n",
    "\n",
    "[3 - Site Oficinal da Linguagem de programação LUA](https://www.lua.org/download.html)\n",
    "\n"
   ]
  }
 ],
 "metadata": {
  "kernelspec": {
   "display_name": "Python 2",
   "language": "python",
   "name": "python2"
  },
  "language_info": {
   "codemirror_mode": {
    "name": "ipython",
    "version": 2
   },
   "file_extension": ".py",
   "mimetype": "text/x-python",
   "name": "python",
   "nbconvert_exporter": "python",
   "pygments_lexer": "ipython2",
   "version": "2.7.13"
  }
 },
 "nbformat": 4,
 "nbformat_minor": 2
}
